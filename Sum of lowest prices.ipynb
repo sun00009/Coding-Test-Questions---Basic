{
 "cells": [
  {
   "cell_type": "markdown",
   "id": "c8105194",
   "metadata": {},
   "source": [
    "### Sum of lowest price of gifts from available list"
   ]
  },
  {
   "cell_type": "code",
   "execution_count": 1,
   "id": "59557d7c",
   "metadata": {},
   "outputs": [],
   "source": [
    "# 2\n",
    "# 3\n",
    "# 8\n",
    "# 50 70 30 100 80 20 150 10\n",
    "# 4\n",
    "# 6\n",
    "# 10 20 32 412 500 11"
   ]
  },
  {
   "cell_type": "code",
   "execution_count": 2,
   "id": "95e1a684",
   "metadata": {},
   "outputs": [
    {
     "name": "stdout",
     "output_type": "stream",
     "text": [
      " 2\n",
      " 3\n",
      " 8\n",
      " 50 70 30 100 80 20 150 10\n",
      "60\n",
      " 4\n",
      " 6\n",
      " 10 20 32 412 500 11\n",
      "73\n"
     ]
    }
   ],
   "source": [
    "num_test_cases = int(input(' '))\n",
    "for i in range(0,num_test_cases):\n",
    "    num_gifts_pur = int(input(' '))\n",
    "    num_gifts_avail = int(input(' '))\n",
    "    price_gifts = input(' ')\n",
    "\n",
    "    sorted_price = price_gifts.split(' ')\n",
    "    sorted_num = list(int(x) for x in sorted_price)\n",
    "    sorted_num = sorted(sorted_num)\n",
    "\n",
    "    sum_price = 0\n",
    "    for i in range(0,num_gifts_pur):\n",
    "        sum_price = sum_price + sorted_num[i]\n",
    "\n",
    "    print(sum_price)"
   ]
  },
  {
   "cell_type": "code",
   "execution_count": null,
   "id": "56f0e132",
   "metadata": {},
   "outputs": [],
   "source": []
  }
 ],
 "metadata": {
  "kernelspec": {
   "display_name": "Python 3 (ipykernel)",
   "language": "python",
   "name": "python3"
  },
  "language_info": {
   "codemirror_mode": {
    "name": "ipython",
    "version": 3
   },
   "file_extension": ".py",
   "mimetype": "text/x-python",
   "name": "python",
   "nbconvert_exporter": "python",
   "pygments_lexer": "ipython3",
   "version": "3.7.0"
  }
 },
 "nbformat": 4,
 "nbformat_minor": 5
}
