{
 "cells": [
  {
   "cell_type": "markdown",
   "id": "b1e8af9a",
   "metadata": {},
   "source": [
    "### Given launch data and travel data find the time of impact - Without using pandas and numpy"
   ]
  },
  {
   "cell_type": "code",
   "execution_count": 1,
   "id": "26ba1da6",
   "metadata": {},
   "outputs": [
    {
     "name": "stdout",
     "output_type": "stream",
     "text": [
      " 19 50\n",
      " 02 20\n",
      "22 10\n"
     ]
    }
   ],
   "source": [
    "import time\n",
    "import datetime\n",
    "\n",
    "launch_data = (input(' '))\n",
    "travel_data = (input(' '))\n",
    "\n",
    "launch_data = launch_data.split()\n",
    "travel_data = travel_data.split()\n",
    "\n",
    "launch_hour = launch_data[0]\n",
    "launch_min = launch_data[1]\n",
    "travel_hour = int(travel_data[0])\n",
    "travel_min = int(travel_data[1])\n",
    "\n",
    "launch_time = launch_hour + ':' + launch_min\n",
    "time_launch = datetime.datetime.strptime(launch_time,'%H:%M')\n",
    "\n",
    "struct_time = time_launch + datetime.timedelta(hours=travel_hour,minutes=travel_min)\n",
    "\n",
    "hh = struct_time.hour\n",
    "mm = struct_time.minute\n",
    "\n",
    "print(str(hh) + ' ' + str(mm))"
   ]
  },
  {
   "cell_type": "code",
   "execution_count": null,
   "id": "48857aa4",
   "metadata": {},
   "outputs": [],
   "source": []
  }
 ],
 "metadata": {
  "kernelspec": {
   "display_name": "Python 3 (ipykernel)",
   "language": "python",
   "name": "python3"
  },
  "language_info": {
   "codemirror_mode": {
    "name": "ipython",
    "version": 3
   },
   "file_extension": ".py",
   "mimetype": "text/x-python",
   "name": "python",
   "nbconvert_exporter": "python",
   "pygments_lexer": "ipython3",
   "version": "3.7.0"
  }
 },
 "nbformat": 4,
 "nbformat_minor": 5
}
